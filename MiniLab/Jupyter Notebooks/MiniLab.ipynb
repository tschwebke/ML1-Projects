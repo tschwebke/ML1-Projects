{
 "cells": [
  {
   "cell_type": "markdown",
   "metadata": {},
   "source": [
    "# Logistic Regression and Support Vector Machine\n",
    "***"
   ]
  },
  {
   "cell_type": "markdown",
   "metadata": {},
   "source": [
    "### Table of Contents<a id='TOC'></a>\n",
    "---\n",
    "1. <a href='#test-train'>Test/Train</a><br>\n",
    "2. <a href='#models'>Models</a><br>\n",
    "2.1 <a href='#logistic-regression'>Logistic Regression</a><br>\n",
    "2.2 <a href='#support-vector-machine'>Support Vector Machine</a><br>\n",
    "3. <a href='#model-analysis'>Model Analysis</a><br>\n",
    "3.1 <a href='#logistic-regression-weights'>Logit Weights</a><br>\n",
    "3.2 <a href='#support-vector'>Support Vectors</a><br>"
   ]
  },
  {
   "cell_type": "markdown",
   "metadata": {},
   "source": [
    "### Libraries & Data <a id='libraries-data'></a>\n",
    "---"
   ]
  },
  {
   "cell_type": "code",
   "execution_count": 1,
   "metadata": {},
   "outputs": [
    {
     "data": {
      "text/html": [
       "<script>\n",
       "code_show=true; \n",
       "function code_toggle() {\n",
       " if (code_show){\n",
       " $('div.input').hide();\n",
       " } else {\n",
       " $('div.input').show();\n",
       " }\n",
       " code_show = !code_show\n",
       "} \n",
       "$( document ).ready(code_toggle);\n",
       "</script>\n",
       "<form action=\"javascript:code_toggle()\"><input type=\"submit\" value=\"Click here to toggle on/off the raw code.\"></form>"
      ],
      "text/plain": [
       "<IPython.core.display.HTML object>"
      ]
     },
     "execution_count": 1,
     "metadata": {},
     "output_type": "execute_result"
    }
   ],
   "source": [
    "from IPython.display import HTML\n",
    "\n",
    "HTML('''<script>\n",
    "code_show=true; \n",
    "function code_toggle() {\n",
    " if (code_show){\n",
    " $('div.input').hide();\n",
    " } else {\n",
    " $('div.input').show();\n",
    " }\n",
    " code_show = !code_show\n",
    "} \n",
    "$( document ).ready(code_toggle);\n",
    "</script>\n",
    "<form action=\"javascript:code_toggle()\"><input type=\"submit\" value=\"Click here to toggle on/off the raw code.\"></form>''')"
   ]
  },
  {
   "cell_type": "code",
   "execution_count": 2,
   "metadata": {},
   "outputs": [],
   "source": [
    "# Libraries\n",
    "# IMPORT LIBRARIES\n",
    "# hide warnings\n",
    "import warnings\n",
    "warnings.filterwarnings('ignore')\n",
    "\n",
    "# all imported libraries used for analysis\n",
    "import numpy as np\n",
    "import pandas as pd \n",
    "import os \n",
    "import urllib\n",
    "import copy\n",
    "import plotly \n",
    "import matplotlib.pyplot as plt\n",
    "%matplotlib inline \n",
    "import seaborn as sns \n",
    "import plotly.graph_objects as go\n",
    "from plotly.subplots import make_subplots\n",
    "import plotly.express as px\n",
    "import statsmodels.api as sm\n",
    "import random\n",
    "import random\n",
    "import us\n",
    "\n",
    "from geopy.geocoders import Nominatim\n",
    "from sklearn.model_selection import train_test_split\n",
    "from sklearn.preprocessing import StandardScaler\n",
    "from sklearn.linear_model import LogisticRegression\n",
    "from sklearn.decomposition import PCA\n",
    "from sklearn.utils import resample\n",
    "from sklearn.feature_selection import RFE\n",
    "from sklearn.preprocessing import LabelEncoder\n",
    "from sklearn.preprocessing import OrdinalEncoder\n",
    "from sklearn.feature_selection import SelectKBest\n",
    "from sklearn.feature_selection import chi2\n",
    "from datetime import datetime\n",
    "from sklearn.metrics import roc_auc_score\n",
    "from sklearn.metrics import roc_curve\n",
    "from sklearn.metrics import classification_report\n",
    "from sklearn.metrics import plot_confusion_matrix\n",
    "from sklearn.metrics import confusion_matrix\n",
    "from pandas.plotting import scatter_matrix\n",
    "\n",
    "# set color scheme and style for seaborn\n",
    "sns.set(color_codes=True)\n",
    "sns.set_style('whitegrid')"
   ]
  },
  {
   "cell_type": "markdown",
   "metadata": {},
   "source": [
    "***REMOVE THE CODE CELL BELOW ONCE ALL HAVE GENERATED THE DATABASE_REV.CSV***"
   ]
  },
  {
   "cell_type": "code",
   "execution_count": 3,
   "metadata": {},
   "outputs": [],
   "source": [
    "# Read the database.csv file and store in a dataframe\n",
    "df=pd.read_csv('../Data/database.csv')\n",
    "#-------------------------------------------------------------#\n",
    "blank_index = df.loc[df['Perpetrator Age']== ' '].index.values[0]\n",
    "df.at[blank_index, 'Perpetrator Age'] = '0'\n",
    "#-------------------------------------------------------------#\n",
    "df['Perpetrator Age'] = df['Perpetrator Age'].astype(int)\n",
    "#-------------------------------------------------------------#\n",
    "#Binning Age\n",
    "age_bins = np.array([0,10,20,30,40,50,60,70,80,90,100,998])\n",
    "age_labels = ['0-10', '11-20','21-30','31-40','41-50','51-60','61-70','71-80','81-90', '91-100', '998']\n",
    "df[\"Victim_Age_Group\"] = pd.cut(df['Victim Age'].astype(int), age_bins, labels=age_labels, include_lowest=True)\n",
    "df['Perpetrator Age']=df['Perpetrator Age'].replace(to_replace=\" \",value=0)\n",
    "df['Perpetrator Age'] = df['Perpetrator Age'].astype(int)\n",
    "df['Perpetrator_Age_Group'] = pd.cut(df['Perpetrator Age'].astype(int), age_bins, labels=age_labels, include_lowest=True)\n",
    "\n",
    "#-------------------------------------------------------------#\n",
    "# combine Victim and Perpetrator Race & Ethnicity into new features - Victim_Race_Ethnicity and Perpetrator_Race_Ethnicity\n",
    "#df['Victim_Race_Ethnicity'] = df['Victim Race'] + ', ' + df['Victim Ethnicity']\n",
    "#df['Victim_Race_Ethnicity'] = df['Victim_Race_Ethnicity'].str.replace(', Unknown','')\n",
    "df['Perpetrator_Race_Ethnicity'] = df['Perpetrator Race'] + ', ' + df['Perpetrator Ethnicity']\n",
    "df['Perpetrator_Race_Ethnicity'] = df['Perpetrator_Race_Ethnicity'].str.replace(', Unknown', '')\n",
    "\n",
    "#-------------------------------------------------------------#\n",
    "relationship_dict = {\n",
    "    'Female Partner': ['Wife', 'Girlfriend', 'Ex-Wife', 'Common-Law Wife'],\n",
    "    'Male Partner': ['Ex-Husband', 'Husband','Boyfriend', 'Common-Law Husband'],\n",
    "    'Parent': ['Father','In-Law','Mother','Stepfather','Stepmother'],\n",
    "    'Children': ['Daughter', 'Son', 'Stepdaughter','Stepson'],\n",
    "    'Sibling': ['Brother', 'Sister'],\n",
    "    'Work': ['Employee', 'Employer']\n",
    "}\n",
    "df['Relationship_Group'] = df['Relationship']\n",
    "rel_replace = [[key for key, value in relationship_dict.items() if val in value][0] if len([key for key, value in relationship_dict.items() if val in value]) >0 else val for val in df['Relationship_Group']]\n",
    "df['Relationship_Group'] = rel_replace\n",
    "#-------------------------------------------------------------#\n",
    "# data wrangling, clean-up, rename headers, drop columns, change data types, and transforms\n",
    "# change crime solved values - Yes = 1 and No = 0 \n",
    "df['Crime Solved']=df['Crime Solved'].replace(to_replace='No',value=0)\n",
    "df['Crime Solved']=df['Crime Solved'].replace(to_replace='Yes',value=1)\n",
    "#-------------------------------------------------------------#\n",
    "df = df.drop(['Victim Count', 'Record Source'], axis=1)\n",
    "df.to_csv ('../Data/database_rev.csv', index = False, header=True)"
   ]
  },
  {
   "cell_type": "code",
   "execution_count": 4,
   "metadata": {},
   "outputs": [],
   "source": [
    "# Load in data\n",
    "df = pd.read_csv('../Data/database_rev.csv')"
   ]
  },
  {
   "cell_type": "code",
   "execution_count": 5,
   "metadata": {},
   "outputs": [
    {
     "data": {
      "text/html": [
       "<div>\n",
       "<style scoped>\n",
       "    .dataframe tbody tr th:only-of-type {\n",
       "        vertical-align: middle;\n",
       "    }\n",
       "\n",
       "    .dataframe tbody tr th {\n",
       "        vertical-align: top;\n",
       "    }\n",
       "\n",
       "    .dataframe thead th {\n",
       "        text-align: right;\n",
       "    }\n",
       "</style>\n",
       "<table border=\"1\" class=\"dataframe\">\n",
       "  <thead>\n",
       "    <tr style=\"text-align: right;\">\n",
       "      <th></th>\n",
       "      <th>Record ID</th>\n",
       "      <th>Agency Code</th>\n",
       "      <th>Agency Name</th>\n",
       "      <th>Agency Type</th>\n",
       "      <th>City</th>\n",
       "      <th>State</th>\n",
       "      <th>Year</th>\n",
       "      <th>Month</th>\n",
       "      <th>Incident</th>\n",
       "      <th>Crime Type</th>\n",
       "      <th>...</th>\n",
       "      <th>Perpetrator Age</th>\n",
       "      <th>Perpetrator Race</th>\n",
       "      <th>Perpetrator Ethnicity</th>\n",
       "      <th>Relationship</th>\n",
       "      <th>Weapon</th>\n",
       "      <th>Perpetrator Count</th>\n",
       "      <th>Victim_Age_Group</th>\n",
       "      <th>Perpetrator_Age_Group</th>\n",
       "      <th>Perpetrator_Race_Ethnicity</th>\n",
       "      <th>Relationship_Group</th>\n",
       "    </tr>\n",
       "  </thead>\n",
       "  <tbody>\n",
       "    <tr>\n",
       "      <th>0</th>\n",
       "      <td>1</td>\n",
       "      <td>AK00101</td>\n",
       "      <td>Anchorage</td>\n",
       "      <td>Municipal Police</td>\n",
       "      <td>Anchorage</td>\n",
       "      <td>Alaska</td>\n",
       "      <td>1980</td>\n",
       "      <td>January</td>\n",
       "      <td>1</td>\n",
       "      <td>Murder or Manslaughter</td>\n",
       "      <td>...</td>\n",
       "      <td>15</td>\n",
       "      <td>Native American/Alaska Native</td>\n",
       "      <td>Unknown</td>\n",
       "      <td>Acquaintance</td>\n",
       "      <td>Blunt Object</td>\n",
       "      <td>0</td>\n",
       "      <td>11-20</td>\n",
       "      <td>11-20</td>\n",
       "      <td>Native American/Alaska Native</td>\n",
       "      <td>Acquaintance</td>\n",
       "    </tr>\n",
       "    <tr>\n",
       "      <th>1</th>\n",
       "      <td>2</td>\n",
       "      <td>AK00101</td>\n",
       "      <td>Anchorage</td>\n",
       "      <td>Municipal Police</td>\n",
       "      <td>Anchorage</td>\n",
       "      <td>Alaska</td>\n",
       "      <td>1980</td>\n",
       "      <td>March</td>\n",
       "      <td>1</td>\n",
       "      <td>Murder or Manslaughter</td>\n",
       "      <td>...</td>\n",
       "      <td>42</td>\n",
       "      <td>White</td>\n",
       "      <td>Unknown</td>\n",
       "      <td>Acquaintance</td>\n",
       "      <td>Strangulation</td>\n",
       "      <td>0</td>\n",
       "      <td>41-50</td>\n",
       "      <td>41-50</td>\n",
       "      <td>White</td>\n",
       "      <td>Acquaintance</td>\n",
       "    </tr>\n",
       "    <tr>\n",
       "      <th>2</th>\n",
       "      <td>3</td>\n",
       "      <td>AK00101</td>\n",
       "      <td>Anchorage</td>\n",
       "      <td>Municipal Police</td>\n",
       "      <td>Anchorage</td>\n",
       "      <td>Alaska</td>\n",
       "      <td>1980</td>\n",
       "      <td>March</td>\n",
       "      <td>2</td>\n",
       "      <td>Murder or Manslaughter</td>\n",
       "      <td>...</td>\n",
       "      <td>0</td>\n",
       "      <td>Unknown</td>\n",
       "      <td>Unknown</td>\n",
       "      <td>Unknown</td>\n",
       "      <td>Unknown</td>\n",
       "      <td>0</td>\n",
       "      <td>21-30</td>\n",
       "      <td>0-10</td>\n",
       "      <td>Unknown</td>\n",
       "      <td>Unknown</td>\n",
       "    </tr>\n",
       "  </tbody>\n",
       "</table>\n",
       "<p>3 rows × 26 columns</p>\n",
       "</div>"
      ],
      "text/plain": [
       "   Record ID Agency Code Agency Name       Agency Type       City   State  \\\n",
       "0          1     AK00101   Anchorage  Municipal Police  Anchorage  Alaska   \n",
       "1          2     AK00101   Anchorage  Municipal Police  Anchorage  Alaska   \n",
       "2          3     AK00101   Anchorage  Municipal Police  Anchorage  Alaska   \n",
       "\n",
       "   Year    Month  Incident              Crime Type  ...  Perpetrator Age  \\\n",
       "0  1980  January         1  Murder or Manslaughter  ...               15   \n",
       "1  1980    March         1  Murder or Manslaughter  ...               42   \n",
       "2  1980    March         2  Murder or Manslaughter  ...                0   \n",
       "\n",
       "                Perpetrator Race  Perpetrator Ethnicity  Relationship  \\\n",
       "0  Native American/Alaska Native                Unknown  Acquaintance   \n",
       "1                          White                Unknown  Acquaintance   \n",
       "2                        Unknown                Unknown       Unknown   \n",
       "\n",
       "          Weapon Perpetrator Count  Victim_Age_Group Perpetrator_Age_Group  \\\n",
       "0   Blunt Object                 0             11-20                 11-20   \n",
       "1  Strangulation                 0             41-50                 41-50   \n",
       "2        Unknown                 0             21-30                  0-10   \n",
       "\n",
       "      Perpetrator_Race_Ethnicity Relationship_Group  \n",
       "0  Native American/Alaska Native       Acquaintance  \n",
       "1                          White       Acquaintance  \n",
       "2                        Unknown            Unknown  \n",
       "\n",
       "[3 rows x 26 columns]"
      ]
     },
     "execution_count": 5,
     "metadata": {},
     "output_type": "execute_result"
    }
   ],
   "source": [
    "df.head(3)"
   ]
  },
  {
   "cell_type": "markdown",
   "metadata": {},
   "source": [
    "### 1. Test/Train Split <a id='test-train'></a>\n",
    "---\n",
    "***Walter***"
   ]
  },
  {
   "cell_type": "code",
   "execution_count": 6,
   "metadata": {},
   "outputs": [],
   "source": [
    "# Train/Test Split 0.8/0.2\n",
    "# set seed\n",
    "random.seed(1234)\n",
    "#-------------------------------------------------------------#\n",
    "# split into train/test\n",
    "y = df['Crime Solved']\n",
    "x = df.drop(['Crime Solved'], axis = 1)\n",
    "x_train,x_test,y_train,y_test=train_test_split(x,y,test_size=0.2)"
   ]
  },
  {
   "cell_type": "code",
   "execution_count": 7,
   "metadata": {},
   "outputs": [
    {
     "name": "stdout",
     "output_type": "stream",
     "text": [
      "Unbalanced data: Crime Solved\n",
      "0    37996\n",
      "1    89694\n",
      "Name: Record ID, dtype: int64\n",
      "\n",
      "\n",
      "Balanced data: Crime Solved\n",
      "0    37996\n",
      "1    37996\n",
      "Name: Record ID, dtype: int64\n"
     ]
    }
   ],
   "source": [
    "# Downsampling\n",
    "#-------------------------------------------------------------#\n",
    "# set seed\n",
    "random.seed(1234)\n",
    "#-------------------------------------------------------------#\n",
    "# split into train/test\n",
    "y = df['Crime Solved']\n",
    "x = df.drop(['Crime Solved'], axis = 1)\n",
    "x_train,x_test,y_train,y_test=train_test_split(x,y,test_size=0.8)\n",
    "#-------------------------------------------------------------#\n",
    "training_df = x_train\n",
    "training_df['Crime Solved'] = y_train\n",
    "print(f'Unbalanced data: {training_df.groupby(\"Crime Solved\").count()[\"Record ID\"]}')\n",
    "#-------------------------------------------------------------#\n",
    "# Separate majority and minority classes\n",
    "fourty = round((len(df)*0.8)/2,)\n",
    "\n",
    "df_majority = training_df[training_df['Crime Solved']==1]\n",
    "df_minority = training_df[training_df['Crime Solved']==0]\n",
    "      \n",
    "# Downsample majority class\n",
    "quarter = int(round(len(df)/4,0))\n",
    "df_majority_downsampled = resample(df_majority, \n",
    "                                 replace=False,    # sample without replacement\n",
    "                                 n_samples=len(df_minority),     # to match minority class\n",
    "                                 random_state=123) # reproducible results\n",
    " \n",
    "# # Combine minority class with downsampled majority class\n",
    "df_downsampled = pd.concat([df_majority_downsampled, df_minority])\n",
    "print(f'\\n\\nBalanced data: {df_downsampled.groupby(\"Crime Solved\").count()[\"Record ID\"]}')"
   ]
  },
  {
   "cell_type": "code",
   "execution_count": 8,
   "metadata": {},
   "outputs": [
    {
     "name": "stdout",
     "output_type": "stream",
     "text": [
      "Actual no. of records: 562462, expected no. of records: 562462\n",
      "Validation Complete\n"
     ]
    }
   ],
   "source": [
    "# Final train/test split (80/20)\n",
    "df_training = df_downsampled.reset_index()\n",
    "index_train = df_training['index']\n",
    "df_training = df_training.drop('index', axis=1)\n",
    "#-------------------------------------------------------------#\n",
    "\n",
    "# index_train.values\n",
    "full_ind = df.index.values\n",
    "train_ind = index_train.values\n",
    "mask = np.isin(full_ind, train_ind, invert=True)\n",
    "test_ind = full_ind[mask]\n",
    "print('Actual no. of records: ' + str(len(test_ind))+', expected no. of records: ' + str(len(df) - len(index_train.values) ))\n",
    "if len(test_ind) == (len(df) - len(index_train.values)):\n",
    "    df_test = df.iloc[mask]\n",
    "    train_amt = quarter*2\n",
    "    test_amt = quarter\n",
    "    print('Validation Complete')"
   ]
  },
  {
   "cell_type": "markdown",
   "metadata": {},
   "source": [
    "## 2. Models <a id='models'></a>\n",
    "---\n",
    "Create a logistic regression model and a support vector machine model for the\n",
    "classification task involved with your dataset. Assess how well each model performs (use\n",
    "80/20 training/testing split for your data). Adjust parameters of the models to make them more\n",
    "accurate. If your dataset size requires the use of stochastic gradient descent, then linear kernel\n",
    "only is fine to use."
   ]
  },
  {
   "cell_type": "markdown",
   "metadata": {},
   "source": [
    "***Assumptions***<br>\n",
    "-fill out all assumptions made-"
   ]
  },
  {
   "cell_type": "markdown",
   "metadata": {},
   "source": [
    "### 2.1 Logistic Regression <a id='logistic-regression'></a>\n",
    "***\n",
    "***Thad & Jamie***"
   ]
  },
  {
   "cell_type": "code",
   "execution_count": null,
   "metadata": {},
   "outputs": [],
   "source": []
  },
  {
   "cell_type": "markdown",
   "metadata": {},
   "source": [
    "### 2.2 Support Vector Machine<a id='support-vector-machine'></a>\n",
    "---\n",
    "***Kris & Walter***"
   ]
  },
  {
   "cell_type": "code",
   "execution_count": null,
   "metadata": {},
   "outputs": [],
   "source": []
  },
  {
   "cell_type": "markdown",
   "metadata": {},
   "source": [
    "## 3. Model Analysis <a id='model-analysis'></a>\n",
    "---\n",
    "***TEAM***<br>\n",
    "Discuss the advantages of each model for each classification task. Does one type\n",
    "of model offer superior performance over another in terms of prediction accuracy? In terms of\n",
    "training time or efficiency? Explain in detail. "
   ]
  },
  {
   "cell_type": "code",
   "execution_count": null,
   "metadata": {},
   "outputs": [],
   "source": []
  },
  {
   "cell_type": "markdown",
   "metadata": {},
   "source": [
    "### 3.2 Logistic Regression Weights<a id='logistic-regression-weights'></a>\n",
    "---\n",
    "***Thad & Jamie***<br>\n",
    "Use the weights from logistic regression to interpret the importance of different\n",
    "features for each classification task. Explain your interpretation in detail. Why do you think\n",
    "some variables are more important?"
   ]
  },
  {
   "cell_type": "code",
   "execution_count": null,
   "metadata": {},
   "outputs": [],
   "source": []
  },
  {
   "cell_type": "markdown",
   "metadata": {},
   "source": [
    "### 3.3 Support Vectors<a id='support-vectors'></a>\n",
    "---\n",
    "***Kris & Walter***<br>\n",
    "Look at the chosen support vectors for the classification task. Do these provide\n",
    "any insight into the data? Explain."
   ]
  },
  {
   "cell_type": "code",
   "execution_count": null,
   "metadata": {},
   "outputs": [],
   "source": []
  }
 ],
 "metadata": {
  "kernelspec": {
   "display_name": "MSDS ML I",
   "language": "python",
   "name": "ml_i_msds"
  },
  "language_info": {
   "codemirror_mode": {
    "name": "ipython",
    "version": 3
   },
   "file_extension": ".py",
   "mimetype": "text/x-python",
   "name": "python",
   "nbconvert_exporter": "python",
   "pygments_lexer": "ipython3",
   "version": "3.7.7"
  }
 },
 "nbformat": 4,
 "nbformat_minor": 2
}
