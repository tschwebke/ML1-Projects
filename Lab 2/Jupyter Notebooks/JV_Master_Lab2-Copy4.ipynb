version https://git-lfs.github.com/spec/v1
oid sha256:d8888c1c8a5cda35ee8c03da9b110e4e593416b010788ca0e1753eddefdfd9c5
size 4297902
