version https://git-lfs.github.com/spec/v1
oid sha256:dfac27bd230e6b0b4bcfb9ce4fb4435301f75a43eccc9e01981c7fe684b616e8
size 4914414
