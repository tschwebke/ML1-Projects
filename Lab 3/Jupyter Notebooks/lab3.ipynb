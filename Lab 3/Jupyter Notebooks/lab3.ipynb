version https://git-lfs.github.com/spec/v1
oid sha256:514406b7419fcb0757decd060213b7a2b2d654f5277589d619625ffc2a90a75f
size 55523463
