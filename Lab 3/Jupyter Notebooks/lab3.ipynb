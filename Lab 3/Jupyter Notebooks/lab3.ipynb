version https://git-lfs.github.com/spec/v1
oid sha256:84e610e10a84ce1e9a13985a8f12f897fbe67960a5f91f3277e45f4ce6dea2b9
size 31998524
