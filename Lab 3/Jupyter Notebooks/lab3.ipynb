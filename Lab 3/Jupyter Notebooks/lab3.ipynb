version https://git-lfs.github.com/spec/v1
oid sha256:829d1953b7813f6805c541d3014fb0536a2efc556edc6e0cf2e0d0db2fe322c0
size 8381810
