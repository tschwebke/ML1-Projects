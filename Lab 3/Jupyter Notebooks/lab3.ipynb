version https://git-lfs.github.com/spec/v1
oid sha256:53ae771f128f96d63df1415171cca27b808d1e80c030bff95f379540dabe3368
size 1354849
