version https://git-lfs.github.com/spec/v1
oid sha256:a3e00fefd30c6fbfcb48fc6f975ae2f8bd9d2a7ecdbffa4559db8a4e7ef24c64
size 10982432
