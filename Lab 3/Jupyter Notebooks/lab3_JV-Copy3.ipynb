version https://git-lfs.github.com/spec/v1
oid sha256:b40bfb67681a8bb310b1a177bdc6b673e5af1895b6d3a5735e27de02ff17a2b6
size 11007812
