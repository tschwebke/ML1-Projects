version https://git-lfs.github.com/spec/v1
oid sha256:c30b4f6ab0ee70debdd925c320963c13c558f04b2f304b47a2d21d15472d5b20
size 22777893
