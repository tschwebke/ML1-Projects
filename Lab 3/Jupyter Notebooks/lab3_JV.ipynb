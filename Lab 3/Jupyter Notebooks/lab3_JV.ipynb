version https://git-lfs.github.com/spec/v1
oid sha256:0a37f941d98044e0f5874d5a1c3f3585a1dcd46e9837c1c393ad9642e9266539
size 7353342
